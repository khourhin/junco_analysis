{
 "cells": [
  {
   "cell_type": "markdown",
   "metadata": {},
   "source": [
    "# Imports"
   ]
  },
  {
   "cell_type": "code",
   "execution_count": 1,
   "metadata": {
    "ExecuteTime": {
     "end_time": "2018-02-05T09:32:17.256044Z",
     "start_time": "2018-02-05T09:32:12.551Z"
    }
   },
   "outputs": [
    {
     "name": "stderr",
     "output_type": "stream",
     "text": [
      "Loading required package: limma\n"
     ]
    }
   ],
   "source": [
    "library(edgeR)\n",
    "library(biomaRt)"
   ]
  },
  {
   "cell_type": "markdown",
   "metadata": {},
   "source": [
    "# Functions"
   ]
  },
  {
   "cell_type": "code",
   "execution_count": 2,
   "metadata": {
    "ExecuteTime": {
     "end_time": "2018-02-05T10:23:15.322733Z",
     "start_time": "2018-02-05T10:23:15.272Z"
    },
    "collapsed": true
   },
   "outputs": [],
   "source": [
    "make_all_de = function(fit, contr.matrix, silent=FALSE, write_csv=FALSE, out=''){\n",
    "\n",
    "res = data.frame()\n",
    "res2 = list()\n",
    "\n",
    "for (i in colnames(contr.matrix)){\n",
    "    lrt <- glmLRT(fit, contrast=contr.matrix[,i])\n",
    "    if (!silent){\n",
    "    message(i)\n",
    "    print(summary(de <- decideTestsDGE(lrt, p=0.05, lfc=1)))\n",
    "    }\n",
    "    lrt.tops = topTags(lrt, p=0.05, n=Inf)\n",
    "    \n",
    "    if (length(lrt.tops) != 0){\n",
    "    lrt.tops$table = lrt.tops$table[abs(lrt.tops$table$logFC) >= 1,]\n",
    "    names(lrt.tops$table) = paste(names(lrt.tops$table), 'LRT', i, sep='_')\n",
    "    res2[[i]] = lrt.tops$table\n",
    "    res = merge(res, lrt.tops$table, by=0, all=TRUE)\n",
    "    rownames(res)=res[,1]; res = res[,-1]\n",
    "    }\n",
    "    \n",
    "}\n",
    "if (write_csv){\n",
    "    res = annotate(res)\n",
    "    write.csv(res, 'table_s1_from_R.csv')\n",
    "    }\n",
    "message(\"Total number of DE genes\")\n",
    "print(dim(res))\n",
    "\n",
    "if (out=='table'){\n",
    "    return(res)\n",
    "}\n",
    "else{\n",
    "    return(res2)\n",
    "}\n",
    "    \n",
    "}\n",
    "\n",
    "annotate = function(res){\n",
    "    mart <- useMart(biomart = \"ensembl\", dataset = \"tguttata_gene_ensembl\")\n",
    "    annot <- getBM(attributes = c(\"ensembl_gene_id\", \"external_gene_name\",\"description\",\"chromosome_name\",\"start_position\", \"end_position\", \"strand\"), filter=\"ensembl_gene_id\", values=rownames(res),mart=mart)\n",
    "\n",
    "    rownames(annot)=annot$ensembl_gene_id\n",
    "    annot = annot[,-1]\n",
    "\n",
    "    res = cbind(res, annot[rownames(res),])\n",
    "    return(res)\n",
    "}"
   ]
  },
  {
   "cell_type": "markdown",
   "metadata": {},
   "source": [
    "# Input"
   ]
  },
  {
   "cell_type": "code",
   "execution_count": 3,
   "metadata": {
    "ExecuteTime": {
     "end_time": "2018-02-05T09:33:40.269689Z",
     "start_time": "2018-02-05T09:33:39.527Z"
    }
   },
   "outputs": [],
   "source": [
    "countFile = \"input/featurecounts_tg89_clean\"\n",
    "groupsFile =\"input/samples_groups.txt\"\n",
    "groupChoice = 4\n",
    "\n",
    "counts <- read.delim(countFile, row.names=1, check.names=F)\n",
    "group <- factor(read.delim( groupsFile, header=F )[,groupChoice])"
   ]
  },
  {
   "cell_type": "markdown",
   "metadata": {},
   "source": [
    "# DR"
   ]
  },
  {
   "cell_type": "code",
   "execution_count": 4,
   "metadata": {
    "ExecuteTime": {
     "end_time": "2018-02-05T09:35:20.845872Z",
     "start_time": "2018-02-05T09:35:20.474Z"
    }
   },
   "outputs": [
    {
     "data": {
      "text/plain": [
       "keep\n",
       "FALSE  TRUE \n",
       " 5721 12897 "
      ]
     },
     "metadata": {},
     "output_type": "display_data"
    }
   ],
   "source": [
    "y = DGEList(counts=counts, group=group)\n",
    "\n",
    "keep <- rowSums(cpm(y) > 1) >= 3\n",
    "table(keep)\n",
    "\n",
    "y = y[keep, ,keep.lib.sizes=FALSE]\n",
    "\n",
    "\n",
    "design = model.matrix(~0+group)\n",
    "colnames(design) <- gsub(\"group\", \"\", colnames(design))"
   ]
  },
  {
   "cell_type": "code",
   "execution_count": 5,
   "metadata": {
    "ExecuteTime": {
     "end_time": "2018-02-05T09:35:55.511770Z",
     "start_time": "2018-02-05T09:35:37.935Z"
    },
    "collapsed": true
   },
   "outputs": [],
   "source": [
    "y <- calcNormFactors(y)\n",
    "\n",
    "y <- estimateGLMCommonDisp(y,design)\n",
    "y <- estimateGLMTrendedDisp(y,design)\n",
    "y <- estimateGLMTagwiseDisp(y,design)\n",
    "\n",
    "fit <- glmFit(y, design)"
   ]
  },
  {
   "cell_type": "markdown",
   "metadata": {},
   "source": [
    "## Comparisons"
   ]
  },
  {
   "cell_type": "markdown",
   "metadata": {},
   "source": [
    "### Show NO differences between ORJU_V and SCJU_V"
   ]
  },
  {
   "cell_type": "code",
   "execution_count": 6,
   "metadata": {
    "ExecuteTime": {
     "end_time": "2018-02-05T09:45:12.862179Z",
     "start_time": "2018-02-05T09:45:12.821Z"
    }
   },
   "outputs": [],
   "source": [
    "contr.matrix <- makeContrasts(ORJU_V_VS_SLJU_V = ORJU_V-SCJU_V, levels=design)"
   ]
  },
  {
   "cell_type": "code",
   "execution_count": 7,
   "metadata": {
    "ExecuteTime": {
     "end_time": "2018-02-05T09:45:14.289893Z",
     "start_time": "2018-02-05T09:45:14.046Z"
    }
   },
   "outputs": [
    {
     "name": "stdout",
     "output_type": "stream",
     "text": [
      "       [,1] \n",
      "Down       0\n",
      "NotSig 12897\n",
      "Up         0\n"
     ]
    }
   ],
   "source": [
    "lrt <- glmLRT(fit, contrast=contr.matrix[,1])\n",
    "print(summary(de <- decideTestsDGE(lrt, p=0.05)))"
   ]
  },
  {
   "cell_type": "markdown",
   "metadata": {},
   "source": [
    "**CCL** NO genes detected DR between ORJU_V and SCJU_V at FDR < 0.05 and NO lFC thresholds"
   ]
  },
  {
   "cell_type": "markdown",
   "metadata": {},
   "source": [
    "### Comparison within subspecies between tracts"
   ]
  },
  {
   "cell_type": "code",
   "execution_count": 8,
   "metadata": {
    "ExecuteTime": {
     "end_time": "2018-02-05T10:06:57.182464Z",
     "start_time": "2018-02-05T10:06:57.135Z"
    }
   },
   "outputs": [],
   "source": [
    "contr.matrix <- makeContrasts(\n",
    "ORJU_H_VS_ORJU_B = ORJU_H-ORJU_B,\n",
    "ORJU_H_VS_ORJU_F = ORJU_H-ORJU_F,\n",
    "ORJU_H_VS_ORJU_V = ORJU_H-ORJU_V,\n",
    "ORJU_B_VS_ORJU_F = ORJU_B-ORJU_F,\n",
    "ORJU_F_VS_ORJU_V = ORJU_F-ORJU_V,\n",
    "ORJU_B_VS_ORJU_V = ORJU_B-ORJU_V,\n",
    "SCJU_H_VS_SCJU_B = SCJU_H-SCJU_B,\n",
    "SCJU_H_VS_SCJU_F = SCJU_H-SCJU_F,\n",
    "SCJU_H_VS_SCJU_V = SCJU_H-SCJU_V,\n",
    "SCJU_B_VS_SCJU_F = SCJU_B-SCJU_F,\n",
    "SCJU_B_VS_SCJU_V = SCJU_B-SCJU_V,\n",
    "SCJU_F_VS_SCJU_V = SCJU_F-SCJU_V,\n",
    "ORJU_B_VS_SCJU_B = ORJU_B-SCJU_B,\n",
    "ORJU_H_VS_SCJU_H = ORJU_H-SCJU_H,\n",
    "ORJU_F_VS_SCJU_F = ORJU_F-SCJU_F,\n",
    "ORJU_V_VS_SCJU_V = ORJU_V-SCJU_V,\n",
    "levels=design)"
   ]
  },
  {
   "cell_type": "code",
   "execution_count": 9,
   "metadata": {
    "ExecuteTime": {
     "end_time": "2018-02-05T10:13:36.202020Z",
     "start_time": "2018-02-05T10:13:33.547Z"
    },
    "scrolled": true
   },
   "outputs": [
    {
     "name": "stderr",
     "output_type": "stream",
     "text": [
      "ORJU_H_VS_ORJU_B\n"
     ]
    },
    {
     "name": "stdout",
     "output_type": "stream",
     "text": [
      "       [,1] \n",
      "Down      49\n",
      "NotSig 12831\n",
      "Up        17\n"
     ]
    },
    {
     "name": "stderr",
     "output_type": "stream",
     "text": [
      "ORJU_H_VS_ORJU_F\n"
     ]
    },
    {
     "name": "stdout",
     "output_type": "stream",
     "text": [
      "       [,1] \n",
      "Down      65\n",
      "NotSig 12801\n",
      "Up        31\n"
     ]
    },
    {
     "name": "stderr",
     "output_type": "stream",
     "text": [
      "ORJU_H_VS_ORJU_V\n"
     ]
    },
    {
     "name": "stdout",
     "output_type": "stream",
     "text": [
      "       [,1] \n",
      "Down     119\n",
      "NotSig 12699\n",
      "Up        79\n"
     ]
    },
    {
     "name": "stderr",
     "output_type": "stream",
     "text": [
      "ORJU_B_VS_ORJU_F\n"
     ]
    },
    {
     "name": "stdout",
     "output_type": "stream",
     "text": [
      "       [,1] \n",
      "Down       3\n",
      "NotSig 12891\n",
      "Up         3\n"
     ]
    },
    {
     "name": "stderr",
     "output_type": "stream",
     "text": [
      "ORJU_F_VS_ORJU_V\n"
     ]
    },
    {
     "name": "stdout",
     "output_type": "stream",
     "text": [
      "       [,1] \n",
      "Down      36\n",
      "NotSig 12820\n",
      "Up        41\n"
     ]
    },
    {
     "name": "stderr",
     "output_type": "stream",
     "text": [
      "ORJU_B_VS_ORJU_V\n"
     ]
    },
    {
     "name": "stdout",
     "output_type": "stream",
     "text": [
      "       [,1] \n",
      "Down      22\n",
      "NotSig 12829\n",
      "Up        46\n"
     ]
    },
    {
     "name": "stderr",
     "output_type": "stream",
     "text": [
      "SCJU_H_VS_SCJU_B\n"
     ]
    },
    {
     "name": "stdout",
     "output_type": "stream",
     "text": [
      "       [,1] \n",
      "Down       4\n",
      "NotSig 12893\n",
      "Up         0\n"
     ]
    },
    {
     "name": "stderr",
     "output_type": "stream",
     "text": [
      "SCJU_H_VS_SCJU_F\n"
     ]
    },
    {
     "name": "stdout",
     "output_type": "stream",
     "text": [
      "       [,1] \n",
      "Down       0\n",
      "NotSig 12897\n",
      "Up         0\n"
     ]
    },
    {
     "name": "stderr",
     "output_type": "stream",
     "text": [
      "SCJU_H_VS_SCJU_V\n"
     ]
    },
    {
     "name": "stdout",
     "output_type": "stream",
     "text": [
      "       [,1] \n",
      "Down      42\n",
      "NotSig 12823\n",
      "Up        32\n"
     ]
    },
    {
     "name": "stderr",
     "output_type": "stream",
     "text": [
      "SCJU_B_VS_SCJU_F\n"
     ]
    },
    {
     "name": "stdout",
     "output_type": "stream",
     "text": [
      "       [,1] \n",
      "Down       1\n",
      "NotSig 12894\n",
      "Up         2\n"
     ]
    },
    {
     "name": "stderr",
     "output_type": "stream",
     "text": [
      "SCJU_B_VS_SCJU_V\n"
     ]
    },
    {
     "name": "stdout",
     "output_type": "stream",
     "text": [
      "       [,1] \n",
      "Down       8\n",
      "NotSig 12873\n",
      "Up        16\n"
     ]
    },
    {
     "name": "stderr",
     "output_type": "stream",
     "text": [
      "SCJU_F_VS_SCJU_V\n"
     ]
    },
    {
     "name": "stdout",
     "output_type": "stream",
     "text": [
      "       [,1] \n",
      "Down      29\n",
      "NotSig 12851\n",
      "Up        17\n"
     ]
    },
    {
     "name": "stderr",
     "output_type": "stream",
     "text": [
      "ORJU_B_VS_SCJU_B\n"
     ]
    },
    {
     "name": "stdout",
     "output_type": "stream",
     "text": [
      "       [,1] \n",
      "Down       1\n",
      "NotSig 12896\n",
      "Up         0\n"
     ]
    },
    {
     "name": "stderr",
     "output_type": "stream",
     "text": [
      "ORJU_H_VS_SCJU_H\n"
     ]
    },
    {
     "name": "stdout",
     "output_type": "stream",
     "text": [
      "       [,1] \n",
      "Down       6\n",
      "NotSig 12890\n",
      "Up         1\n"
     ]
    },
    {
     "name": "stderr",
     "output_type": "stream",
     "text": [
      "ORJU_F_VS_SCJU_F\n"
     ]
    },
    {
     "name": "stdout",
     "output_type": "stream",
     "text": [
      "       [,1] \n",
      "Down       1\n",
      "NotSig 12893\n",
      "Up         3\n"
     ]
    },
    {
     "name": "stderr",
     "output_type": "stream",
     "text": [
      "ORJU_V_VS_SCJU_V\n"
     ]
    },
    {
     "name": "stdout",
     "output_type": "stream",
     "text": [
      "       [,1] \n",
      "Down       0\n",
      "NotSig 12897\n",
      "Up         0\n"
     ]
    },
    {
     "name": "stderr",
     "output_type": "stream",
     "text": [
      "Total number of DE genes\n"
     ]
    },
    {
     "name": "stdout",
     "output_type": "stream",
     "text": [
      "[1] 349  76\n"
     ]
    }
   ],
   "source": [
    "res = make_all_de(fit, contr.matrix, write_csv=TRUE)"
   ]
  },
  {
   "cell_type": "code",
   "execution_count": 10,
   "metadata": {
    "ExecuteTime": {
     "end_time": "2018-02-05T10:17:39.457481Z",
     "start_time": "2018-02-05T10:17:35.739Z"
    },
    "collapsed": true,
    "scrolled": false
   },
   "outputs": [
    {
     "name": "stderr",
     "output_type": "stream",
     "text": [
      "Total number of DE genes\n"
     ]
    },
    {
     "name": "stdout",
     "output_type": "stream",
     "text": [
      "[1] 304  30\n"
     ]
    },
    {
     "name": "stderr",
     "output_type": "stream",
     "text": [
      "Total number of DE genes\n"
     ]
    },
    {
     "name": "stdout",
     "output_type": "stream",
     "text": [
      "[1] 112  25\n"
     ]
    }
   ],
   "source": [
    "contr.matrix <- makeContrasts(\n",
    "ORJU_H_VS_ORJU_B = ORJU_H-ORJU_B,\n",
    "ORJU_H_VS_ORJU_F = ORJU_H-ORJU_F,\n",
    "ORJU_H_VS_ORJU_V = ORJU_H-ORJU_V,\n",
    "ORJU_B_VS_ORJU_F = ORJU_B-ORJU_F,\n",
    "ORJU_F_VS_ORJU_V = ORJU_F-ORJU_V,\n",
    "ORJU_B_VS_ORJU_V = ORJU_B-ORJU_V,\n",
    "    levels=design)\n",
    "\n",
    "res_orju = make_all_de(fit, contr.matrix, silent=TRUE, out='table')\n",
    "\n",
    "contr.matrix <- makeContrasts(\n",
    "SCJU_H_VS_SCJU_B = SCJU_H-SCJU_B,\n",
    "SCJU_H_VS_SCJU_F = SCJU_H-SCJU_F,\n",
    "SCJU_H_VS_SCJU_V = SCJU_H-SCJU_V,\n",
    "SCJU_B_VS_SCJU_F = SCJU_B-SCJU_F,\n",
    "SCJU_B_VS_SCJU_V = SCJU_B-SCJU_V,\n",
    "SCJU_F_VS_SCJU_V = SCJU_F-SCJU_V,\n",
    "levels=design)\n",
    "\n",
    "res_scju = make_all_de(fit, contr.matrix, silent=TRUE, out='table')"
   ]
  },
  {
   "cell_type": "markdown",
   "metadata": {},
   "source": [
    "Description of intersection /  differences:"
   ]
  },
  {
   "cell_type": "code",
   "execution_count": 11,
   "metadata": {
    "ExecuteTime": {
     "end_time": "2018-02-05T10:17:39.486655Z",
     "start_time": "2018-02-05T10:17:37.338Z"
    }
   },
   "outputs": [
    {
     "data": {
      "text/plain": [
       "\n",
       "FALSE  TRUE \n",
       "  234    70 "
      ]
     },
     "metadata": {},
     "output_type": "display_data"
    },
    {
     "data": {
      "text/plain": [
       "\n",
       "FALSE  TRUE \n",
       "   42    70 "
      ]
     },
     "metadata": {},
     "output_type": "display_data"
    }
   ],
   "source": [
    "table(row.names(res_orju) %in% row.names(res_scju))\n",
    "table(row.names(res_scju) %in% row.names(res_orju))"
   ]
  },
  {
   "cell_type": "markdown",
   "metadata": {},
   "source": [
    "## Export Gene lists for GO"
   ]
  },
  {
   "cell_type": "code",
   "execution_count": 13,
   "metadata": {
    "collapsed": true
   },
   "outputs": [],
   "source": [
    "go_outdir = 'genesIDs_for_GO/'\n",
    "dir.create(go_outdir)\n",
    "\n",
    "for (n in names(res)){\n",
    "    outpath = paste0(go_outdir, n)\n",
    "    write(file=outpath, rownames(res[[n]]))\n",
    "}"
   ]
  }
 ],
 "metadata": {
  "kernelspec": {
   "display_name": "R",
   "language": "R",
   "name": "ir"
  },
  "language_info": {
   "codemirror_mode": "r",
   "file_extension": ".r",
   "mimetype": "text/x-r-source",
   "name": "R",
   "pygments_lexer": "r",
   "version": "3.4.1"
  },
  "toc": {
   "nav_menu": {},
   "number_sections": true,
   "sideBar": true,
   "skip_h1_title": false,
   "toc_cell": false,
   "toc_position": {},
   "toc_section_display": "block",
   "toc_window_display": true
  }
 },
 "nbformat": 4,
 "nbformat_minor": 2
}
