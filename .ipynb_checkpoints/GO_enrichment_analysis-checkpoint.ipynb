{
 "cells": [
  {
   "cell_type": "markdown",
   "metadata": {},
   "source": [
    "# Imports"
   ]
  },
  {
   "cell_type": "code",
   "execution_count": null,
   "metadata": {},
   "outputs": [],
   "source": [
    "library(topGO)\n",
    "library(Rgraphviz)"
   ]
  },
  {
   "cell_type": "markdown",
   "metadata": {},
   "source": [
    "# Analysis"
   ]
  },
  {
   "cell_type": "code",
   "execution_count": 2,
   "metadata": {},
   "outputs": [],
   "source": [
    "geneIDGO <- readMappings(file='input/GO_map.txt')\n",
    "geneNames = names(geneIDGO)\n",
    "\n",
    "makeGo = function(infile){\n",
    "\n",
    "    dr_genes <- scan(infile, what='raw')\n",
    "\n",
    "    geneList <- factor(as.integer(geneNames %in% dr_genes))\n",
    "    names(geneList) <- geneNames\n",
    "\n",
    "    GOdata <- new(\"topGOdata\", ontology = \"BP\", allGenes = geneList,annot = annFUN.gene2GO, gene2GO = geneIDGO)\n",
    "\n",
    "    resultFisher <- runTest(GOdata, algorithm = \"classic\", statistic = \"fisher\")\n",
    "    resultKS <- runTest(GOdata, algorithm = \"classic\", statistic = \"ks\")\n",
    "    resultKS.elim <- runTest(GOdata, algorithm = \"elim\", statistic = \"ks\")\n",
    "\n",
    "    allRes <- GenTable(GOdata, classicFisher = resultFisher,\n",
    "                       classicKS = resultKS, elimKS = resultKS.elim,\n",
    "                       orderBy = \"classicFisher\", ranksOf = \"classicFisher\", topNodes = 50)\n",
    "\n",
    "    write.csv(allRes, paste0(infile, '_GO_res.csv'))\n",
    "}"
   ]
  },
  {
   "cell_type": "code",
   "execution_count": null,
   "metadata": {},
   "outputs": [],
   "source": [
    "for (file in list.files('genesIDs_for_GO/', full.names=TRUE)){\n",
    "    makeGo(file)\n",
    "}"
   ]
  }
 ],
 "metadata": {
  "kernelspec": {
   "display_name": "R",
   "language": "R",
   "name": "ir"
  },
  "language_info": {
   "codemirror_mode": "r",
   "file_extension": ".r",
   "mimetype": "text/x-r-source",
   "name": "R",
   "pygments_lexer": "r",
   "version": "3.4.1"
  }
 },
 "nbformat": 4,
 "nbformat_minor": 2
}
